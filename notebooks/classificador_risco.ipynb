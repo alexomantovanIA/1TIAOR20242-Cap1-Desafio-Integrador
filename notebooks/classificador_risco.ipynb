{
 "cells": [
  {
   "cell_type": "markdown",
   "metadata": {},
   "source": [
    "# Classificador de Risco com TF-IDF\n",
    "Este notebook treina um classificador simples para identificar frases de alto ou baixo risco com base em descrições de sintomas."
   ]
  },
  {
   "cell_type": "markdown",
   "metadata": {},
   "source": [
    "### Objetivos\n",
    "- Carregar um conjunto de frases rotuladas com níveis de risco.\n",
    "- Transformar o texto em vetores TF-IDF.\n",
    "- Treinar um modelo de regressão logística e avaliar o desempenho.\n",
    "- Testar o modelo com novas frases para validar o comportamento."
   ]
  },
  {
   "cell_type": "code",
   "execution_count": null,
   "id": "19a7239f",
   "metadata": {},
   "outputs": [],
   "source": [
    "from pathlib import Path\n",
    "\n",
    "import pandas as pd\n",
    "from sklearn.feature_extraction.text import TfidfVectorizer\n",
    "from sklearn.linear_model import LogisticRegression\n",
    "from sklearn.metrics import classification_report, confusion_matrix\n",
    "from sklearn.model_selection import train_test_split\n",
    "from sklearn.pipeline import Pipeline"
   ]
  },
  {
   "cell_type": "code",
   "execution_count": null,
   "id": "6d155c95",
   "metadata": {},
   "outputs": [],
   "source": [
    "BASE_DIR = Path.cwd().parents[0]\n",
    "data_path = BASE_DIR / \"data\" / \"classificacao_risco.csv\"\n",
    "\n",
    "if not data_path.exists():\n",
    "    raise FileNotFoundError(f\"Arquivo não encontrado: {data_path}\")\n",
    "\n",
    "raw_df = pd.read_csv(data_path)\n",
    "raw_df.head()"
   ]
  },
  {
   "cell_type": "markdown",
   "id": "f7b7ed93",
   "metadata": {},
   "source": [
    "### Exploração Rápida\n",
    "Verificamos o balanceamento da base simulada e, em seguida, identificamos as principais palavras para cada classe a partir dos coeficientes da regressão logística."
   ]
  },
  {
   "cell_type": "code",
   "execution_count": null,
   "id": "51c26a13",
   "metadata": {},
   "outputs": [],
   "source": [
    "raw_df['situacao'].value_counts()\n"
   ]
  },
  {
   "cell_type": "code",
   "execution_count": null,
   "id": "8ce1a820",
   "metadata": {},
   "outputs": [],
   "source": [
    "X_train, X_test, y_train, y_test = train_test_split(\n",
    "    raw_df[\"frase\"], raw_df[\"situacao\"], test_size=0.3, random_state=42, stratify=raw_df[\"situacao\"]\n",
    ")\n",
    "\n",
    "pipeline = Pipeline(\n",
    "    steps=[\n",
    "        (\"tfidf\", TfidfVectorizer(ngram_range=(1, 2), min_df=1)),\n",
    "        (\"clf\", LogisticRegression(max_iter=1000, class_weight=\"balanced\")),\n",
    "    ]\n",
    ")\n",
    "\n",
    "pipeline.fit(X_train, y_train)"
   ]
  },
  {
   "cell_type": "code",
   "execution_count": null,
   "id": "d5f1ec15",
   "metadata": {},
   "outputs": [],
   "source": [
    "y_pred = pipeline.predict(X_test)\n",
    "print(f\"Acurácia: {pipeline.score(X_test, y_test):.2f}\")\n",
    "print(\"\\nRelatório de classificação:\\n\")\n",
    "print(classification_report(y_test, y_pred))\n",
    "\n",
    "print(\"Matriz de confusão:\")\n",
    "print(confusion_matrix(y_test, y_pred))"
   ]
  },
  {
   "cell_type": "markdown",
   "id": "7c6d5fea",
   "metadata": {},
   "source": [
    "### Principais Termos por Classe\n",
    "A regressão logística permite interpretar pesos dos termos. Valores positivos indicam associação com `alto risco`, enquanto negativos sugerem `baixo risco`."
   ]
  },
  {
   "cell_type": "code",
   "execution_count": null,
   "id": "e81160ba",
   "metadata": {},
   "outputs": [],
   "source": [
    "vectorizer = pipeline.named_steps['tfidf']\n",
    "clf = pipeline.named_steps['clf']\n",
    "feature_names = vectorizer.get_feature_names_out()\n",
    "classes = list(clf.classes_)\n",
    "if len(classes) != 2:\n",
    "    raise ValueError('Esperado classificador binário para inspecionar pesos.')\n",
    "positive_class = classes[1]\n",
    "coef_positive = clf.coef_[0]\n",
    "if positive_class.lower() == 'alto risco':\n",
    "    coefs_alto = coef_positive\n",
    "    coefs_baixo = -coef_positive\n",
    "else:\n",
    "    coefs_alto = -coef_positive\n",
    "    coefs_baixo = coef_positive\n",
    "top_alto = coefs_alto.argsort()[-10:][::-1]\n",
    "top_baixo = coefs_baixo.argsort()[-10:][::-1]\n",
    "print('Termos mais associados a ALTO risco:')\n",
    "for idx in top_alto:\n",
    "    print(f'  {feature_names[idx]} - peso {coefs_alto[idx]:.3f}')\n",
    "\n",
    "print('Termos mais associados a BAIXO risco:')\n",
    "for idx in top_baixo:\n",
    "    print(f'  {feature_names[idx]} - peso {coefs_baixo[idx]:.3f}')\n"
   ]
  },
  {
   "cell_type": "markdown",
   "id": "7083d2c3",
   "metadata": {},
   "source": [
    "### Observações sobre Viés\n",
    "Por se tratar de uma base sintética e pequena, a cobertura de vocabulário é limitada. Termos muito específicos foram rotulados manualmente; portanto, recomenda-se expandir a base antes de utilizar o modelo em produção."
   ]
  },
  {
   "cell_type": "code",
   "execution_count": null,
   "id": "06c5d1ed",
   "metadata": {},
   "outputs": [],
   "source": [
    "novas_frases = [\n",
    "    \"sinto dor no peito e falta de ar depois de subir escadas\",\n",
    "    \"leve desconforto no ombro após alongamento\",\n",
    "    \"visão turva, pressão alta e suor frio na madrugada\",\n",
    "]\n",
    "\n",
    "predicoes = pipeline.predict(novas_frases)\n",
    "\n",
    "for frase, risco in zip(novas_frases, predicoes):\n",
    "    print(f\"Frase: {frase}\\n → Risco previsto: {risco}\\n\")"
   ]
  }
 ],
 "metadata": {
  "kernelspec": {
   "display_name": "Python 3",
   "language": "python",
   "name": "python3"
  },
  "language_info": {
   "codemirror_mode": {
    "name": "ipython",
    "version": 3
   },
   "file_extension": ".py",
   "mimetype": "text/x-python",
   "name": "python",
   "nbconvert_exporter": "python",
   "pygments_lexer": "ipython3",
   "version": "3.9.6"
  }
 },
 "nbformat": 4,
 "nbformat_minor": 5
}
